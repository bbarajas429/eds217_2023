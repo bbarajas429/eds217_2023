{
 "cells": [
  {
   "cell_type": "markdown",
   "metadata": {
    "slideshow": {
     "slide_type": "slide"
    }
   },
   "source": [
    "| [⬅️ Previous Session](0-2_hello_data_science.ipynb) | [🏠 Course Home](../index.ipynb) |  [🚦 EDS217 Vibes](https://eds217-stoplight.herokuapp.com) | [➡️ Next Session](1-2_lists.ipynb) |\n",
    "\n",
    "# Interactive Session: Variables & Operators\n",
    "\n",
    "![variables.jpg](assets/variables.jpg)\n",
    "\n",
    "All programming languages contain the same fundamental tools: `variables`, `operators`, and `functions`. This session will covers the first two of these basic elements of the Python language. \n",
    "\n",
    "<p style=\"height:1pt\"> </p>\n",
    "\n",
    "<div class=\"boxhead1\">\n",
    "    Session Topics\n",
    "</div>\n",
    "\n",
    "<div class=\"boxtext1\">\n",
    "<ul class=\"a\">\n",
    "    <li> 📌 Numbers: <code>int</code>, <code>float</code> </li>\n",
    "    <ul class=\"b\">\n",
    "        <li> Arithmetic operators </li>\n",
    "        <li> Boolean operators </li>\n",
    "        <li> Built-in functions for numerical objects </li>\n",
    "    </ul>\n",
    "    <li> 📌 Strings </li>\n",
    "    <ul class=\"b\">\n",
    "        <li> Built-in functions for strings </li>\n",
    "        <li> Formatted print statements </li>\n",
    "    </ul>\n",
    "</ul>\n",
    "</div>\n",
    "\n",
    "<hr style=\"border-top: 0.2px solid gray; margin-top: 12pt; margin-bottom: 0pt\"></hr>\n",
    "\n",
    "### Instructions\n",
    "We will work through this notebook together. To run a cell, click on the cell and press \"Shift\" + \"Enter\" or click the \"Run\" button in the toolbar at the top. \n",
    "\n",
    "<p style=\"color:#408000; font-weight: bold\"> 🐍 &nbsp; &nbsp; This symbol designates an important note about Python structure, syntax, or another quirk.  </p>\n",
    "\n",
    "<p style=\"color:#008C96; font-weight: bold\"> ▶️ &nbsp; &nbsp; This symbol designates a cell with code to be run.  </p>\n",
    "\n",
    "<p style=\"color:#008C96; font-weight: bold\"> ✏️ &nbsp; &nbsp; This symbol designates a partially coded cell with an example.  </p>\n",
    "\n",
    "<hr style=\"border-top: 1px solid gray; margin-top: 24px; margin-bottom: 1px\"></hr>"
   ]
  },
  {
   "cell_type": "markdown",
   "metadata": {
    "slideshow": {
     "slide_type": "subslide"
    }
   },
   "source": [
    "## Variables + Operators\n",
    "Variables are used in Python to create references to an object (e.g. string, float, DataFrame, etc.). Variables are assigned in Python using `=`.\n",
    "\n",
    "<div class=\"python\">\n",
    "    🐍 <b>Note.</b>\n",
    "    Variable names should be chosen carefully and should indicate what the variable is used for. Python etiquette generally dictates using lowercase variable names. Underscores are common. Variable names cannot start with a number. Also, there are several names that cannot be used as variables, as they are reserved for built-in Python commands, functions, etc. We will see examples of these throughout this session.\n",
    "</div>\n",
    "\n",
    "\n",
    "<hr style=\"border-top: 0.2px solid gray; margin-top: 12px; margin-bottom: 1px\"></hr>\n",
    "\n",
    "### Numbers\n",
    "Numbers in Python can be either **integers** (whole numbers) or **floats** (floating point decimal numbers).\n",
    "\n",
    "The following syntax is used to define an integer:\n",
    "```python\n",
    "x = 1\n",
    "y = 42\n",
    "```\n",
    "\n",
    "<div class=\"run\">\n",
    "    ▶️ Run the cell below.\n",
    "</div>"
   ]
  },
  {
   "cell_type": "code",
   "execution_count": 41,
   "metadata": {},
   "outputs": [],
   "source": [
    "# Define variables x and y as integers.\n",
    "    # View these variables under Jupyter > variables\n",
    "x = 1\n",
    "y = 42"
   ]
  },
  {
   "cell_type": "markdown",
   "metadata": {},
   "source": [
    "The following syntax is used to define a float:\n",
    "```python\n",
    "a = 1.0\n",
    "b = 42.0\n",
    "c = 23.782043\n",
    "```\n",
    "\n",
    "### <div class=\"example\"> ✏️ Try it.\n",
    "Define variables a, b, and c according to the values above.\n",
    "</div>"
   ]
  },
  {
   "cell_type": "code",
   "execution_count": 42,
   "metadata": {},
   "outputs": [],
   "source": [
    "# Define variables a, b, and c as floats.\n",
    "    # there is no cross talk accross documents, so variables for\n",
    "    # ALL will not appear\n",
    "a = 1.0\n",
    "b = 42.0\n",
    "c = 23.782043"
   ]
  },
  {
   "cell_type": "markdown",
   "metadata": {},
   "source": [
    "<h4 style=\"border:1px; border-style:solid; border-color:black; padding: 0.5em;\"> <span style=\"color:black\"> Arithmetic Operators </span> </h4>\n",
    "\n",
    "Just like a calculator, basic arithmetic can be done on number variables. Python uses the following symbols \n",
    "\n",
    "| Symbol | Task           |\n",
    "| :----: | :---           |\n",
    "|   +    | Addition       |\n",
    "|   -    | Subtraction    |\n",
    "|   *    | Multiplication |\n",
    "|   /    | Division       |\n",
    "|   %    | Modular        |\n",
    "|  //    | Floor division |\n",
    "|  **    | Power          |\n",
    "\n",
    "\n",
    "\n",
    "### <div class=\"example\"> ✏️  Try it.\n",
    "Practice these arithmetic operations by running the code in the cell below. Feel free to add more to test the operators. Use the <code>print()</code>  command to output your answers.\n",
    "</div>"
   ]
  },
  {
   "cell_type": "code",
   "execution_count": 43,
   "metadata": {},
   "outputs": [
    {
     "name": "stdout",
     "output_type": "stream",
     "text": [
      "1.766038350868342\n",
      "1.0\n",
      "16\n",
      "237.82043000000002\n"
     ]
    }
   ],
   "source": [
    "# Do some math. You can use your variables and floats above\n",
    "# Division\n",
    "print(b/c)\n",
    "\n",
    "# Floor division\n",
    "print(b//c)\n",
    "\n",
    "# Power\n",
    "print(2**4)\n",
    "\n",
    "# multiplication\n",
    "print(10*c)"
   ]
  },
  {
   "cell_type": "code",
   "execution_count": 44,
   "metadata": {},
   "outputs": [],
   "source": [
    "# store an arthmetic equation\n",
    "    # b is a float, so f will also be a float\n",
    "f = 2+b"
   ]
  },
  {
   "cell_type": "markdown",
   "metadata": {},
   "source": [
    "Notice that the order of operations applies.\n",
    "\n",
    "<h4 style=\"border:1px; border-style:solid; border-color:black; padding: 0.5em;\"> <span style=\"color:black\"> Boolean Operators </span> </h4>\n",
    "\n",
    "Boolean operators evaluate a condition between two operands, returning `True` if the condition is met and `False` otherwise. `True` and `False` are called **booleans**.\n",
    "\n",
    "| Symbol | Task                     |\n",
    "| :----: | :----------------------  |\n",
    "|   ==   | Equals                   |\n",
    "|  !=    | Does not equal           |\n",
    "|   <    | Less than                |\n",
    "|   >    | Greater than             |\n",
    "|   <=   | Less than or equal to    |\n",
    "|   >=   | Greater than or equal to |\n",
    "\n",
    "<div class=\"run\">\n",
    "    ▶️ Run the cell below.\n",
    "</div>"
   ]
  },
  {
   "cell_type": "code",
   "execution_count": 45,
   "metadata": {},
   "outputs": [
    {
     "name": "stdout",
     "output_type": "stream",
     "text": [
      "True\n",
      "False\n",
      "True\n",
      "False\n"
     ]
    }
   ],
   "source": [
    "# Will return various T/F \n",
    "print( b >= a )\n",
    "print( 87 < -2 )\n",
    "print( c != 0 )\n",
    "print( y == x)"
   ]
  },
  {
   "cell_type": "markdown",
   "metadata": {},
   "source": [
    "<h4 style=\"border:1px; border-style:solid; border-color:black; padding: 0.5em;\"> <span style=\"color:black\"> Built-in functions </span> </h4>\n",
    "\n",
    "Python has a number of built-in functions. Here we will introduce a few of the useful built-in functions for numerical variables. \n",
    "\n",
    "The `type()` function is used to check the data type of a variable. For numerical arguments, either `float` or `int` is returned.\n",
    "\n",
    "<div class=\"run\">\n",
    "    ▶️ Run the cell below.\n",
    "</div>"
   ]
  },
  {
   "cell_type": "code",
   "execution_count": 46,
   "metadata": {},
   "outputs": [
    {
     "data": {
      "text/plain": [
       "int"
      ]
     },
     "execution_count": 46,
     "metadata": {},
     "output_type": "execute_result"
    }
   ],
   "source": [
    "type(y)"
   ]
  },
  {
   "cell_type": "markdown",
   "metadata": {},
   "source": [
    "The `isinstance()` function is used to determine whether an argument is in a certain class. It returns a boolean value. Multiple classes can be checked at once.\n"
   ]
  },
  {
   "cell_type": "markdown",
   "metadata": {},
   "source": [
    "__NOTE__: used ^Shift- in order to split these two cells. Note where the cursor is before splitting cell"
   ]
  },
  {
   "cell_type": "code",
   "execution_count": 47,
   "metadata": {},
   "outputs": [
    {
     "name": "stdout",
     "output_type": "stream",
     "text": [
      "True\n",
      "False\n",
      "True\n"
     ]
    }
   ],
   "source": [
    "# here, I split this cell from the above one & converted it to\n",
    "# a Python cell in order to run it \n",
    "print(isinstance(12, int))  # prints T, 12 is an int\n",
    "\n",
    "print(isinstance(12.0,int)) # prints F, 12.0 is a float\n",
    "\n",
    "print(isinstance(12.0,(int,float))) # T if 12.0 is an int OR float"
   ]
  },
  {
   "cell_type": "markdown",
   "metadata": {},
   "source": [
    "The commands `int()` and `float()` are used to convert between data types.\n",
    "\n",
    "<div class=\"run\">\n",
    "    ▶️ Run the cell below.\n",
    "</div>"
   ]
  },
  {
   "cell_type": "code",
   "execution_count": 48,
   "metadata": {},
   "outputs": [
    {
     "name": "stdout",
     "output_type": "stream",
     "text": [
      "42.0\n",
      "23\n"
     ]
    }
   ],
   "source": [
    "# changing type of \"y\" from integer to float\n",
    "print( float(y) )\n",
    "\n",
    "# changing type of \"c\" from float to integer\n",
    "print( int(c) )"
   ]
  },
  {
   "cell_type": "code",
   "execution_count": 49,
   "metadata": {},
   "outputs": [
    {
     "name": "stdout",
     "output_type": "stream",
     "text": [
      "y as int: 42\n",
      "y as float: 42.0\n"
     ]
    }
   ],
   "source": [
    "y_2 = 42\n",
    "print(f\"y as int: {y_2}\")\n",
    "float_y_2 = float(y)\n",
    "print(f\"y as float: {float_y_2}\")"
   ]
  },
  {
   "cell_type": "markdown",
   "metadata": {},
   "source": [
    "Notice that when converting a float value to an integer, the `int()` command always rounds *down* to the nearest whole number.\n",
    "\n",
    "To round a float to the nearest whole number, use the function `round()`. You can specify the number of decimal places by adding an integer as an argument to the `round()` function .\n",
    "\n",
    "<div class=\"run\">\n",
    "    ▶️ Run the cell below.\n",
    "</div>"
   ]
  },
  {
   "cell_type": "code",
   "execution_count": 50,
   "metadata": {},
   "outputs": [
    {
     "name": "stdout",
     "output_type": "stream",
     "text": [
      "24\n",
      "23.782\n"
     ]
    }
   ],
   "source": [
    "print( round(c) ) #round to integer\n",
    "\n",
    "print( round(c,3) ) # round to float w/3 decimal places"
   ]
  },
  {
   "cell_type": "markdown",
   "metadata": {},
   "source": [
    "The `complex()` function is used to define a complex number. __We won't be using complex numbers__ in this course, but it's important to know that python is happy to handle them.\n",
    "\n",
    "<div class=\"run\">\n",
    "    ▶️ Run the cell below.\n",
    "</div>"
   ]
  },
  {
   "cell_type": "code",
   "execution_count": 51,
   "metadata": {},
   "outputs": [],
   "source": [
    "d = complex('5+2j') "
   ]
  },
  {
   "cell_type": "markdown",
   "metadata": {},
   "source": [
    "To return the absolute value of a number, use the `abs()` function.\n",
    "\n",
    "<div class=\"run\">\n",
    "    ▶️ Run the cell below.\n",
    "</div>"
   ]
  },
  {
   "cell_type": "code",
   "execution_count": 52,
   "metadata": {},
   "outputs": [
    {
     "name": "stdout",
     "output_type": "stream",
     "text": [
      "5.385164807134504\n",
      "12\n"
     ]
    }
   ],
   "source": [
    "print( abs(d) ) #abosulte value of the complex number we defined above\n",
    "print( abs(-12) )"
   ]
  },
  {
   "cell_type": "markdown",
   "metadata": {},
   "source": [
    "\n",
    "The `divmod()` function returns the quotient and remainder of two input operands in a tuple. (Tuples are another data type that we will cover later.)\n",
    "\n",
    "```python\n",
    "divmod(64, 4.2)\n",
    "```\n",
    "\n",
    "Output:\n",
    "```\n",
    "(15.0, 0.9999999999999973)\n",
    "```\n",
    "\n",
    "---\n",
    "\n",
    "The `pow()` function is an alternative to the `**` operator for raising a number to an exponent, i.e. $x^y$. An optional third argument is used to return the modulus (`%`) of the power of a number, i.e. $x^y$ % $z$.\n",
    "\n",
    "```python\n",
    "pow(8,2)\n",
    "```\n",
    "\n",
    "Output:\n",
    "```\n",
    "64\n",
    "```\n",
    "\n",
    "```python\n",
    "pow(8,2,3)\n",
    "```\n",
    "\n",
    "Output:\n",
    "```\n",
    "1\n",
    "```\n"
   ]
  },
  {
   "cell_type": "markdown",
   "metadata": {},
   "source": [
    "<hr style=\"border-top: 0.2px solid gray; margin-top: 12px; margin-bottom: 1px\"></hr>\n",
    "\n",
    "### Strings\n",
    "Pieces of text in Python are referred to as strings. Strings are defined with either single or double quotes. The only difference between the two is that it is easier to use an apostrophe with double quotes.\n",
    "```python\n",
    "mytext = 'This is a string.'\n",
    "mytext2 = \"This is also a string.\"\n",
    "```\n",
    "To use an apostrope or single quotes inside a string defined by single quotes (or to use double quotes), use a single backslash ( \\\\ ) referred to as an \"escape\" character.\n",
    "```python\n",
    "q1a = \"What is Newton's 1st law of motion?\"\n",
    "q1b = 'What is Newton\\'s 1st law of motion?'\n",
    "```\n"
   ]
  },
  {
   "cell_type": "markdown",
   "metadata": {},
   "source": [
    "<h4 style=\"border:1px; border-style:solid; border-color:black; padding: 0.5em;\"> <span style=\"color:black\"> Built-in functions </span> </h4>\n",
    "\n",
    "Just like the `int()` and `float` commands, the `str()` command converts a number to a string.\n",
    "\n",
    "<div class=\"run\">\n",
    "    ▶️ Run the cell below.\n",
    "</div>"
   ]
  },
  {
   "cell_type": "code",
   "execution_count": 53,
   "metadata": {},
   "outputs": [
    {
     "name": "stdout",
     "output_type": "stream",
     "text": [
      "42\n"
     ]
    },
    {
     "data": {
      "text/plain": [
       "str"
      ]
     },
     "execution_count": 53,
     "metadata": {},
     "output_type": "execute_result"
    }
   ],
   "source": [
    "# convert y int to a string\n",
    "ystr = str(y)\n",
    "\n",
    "# print out new string, it'll apear as a number, but you can check type()\n",
    "print(ystr)\n",
    "type(ystr)"
   ]
  },
  {
   "cell_type": "markdown",
   "metadata": {},
   "source": [
    "The `+` operator can be used to combine two or more strings.\n",
    "\n",
    "__NOTE__: When writing the string, make sure to include spaces using ' '\n",
    "\n",
    "<div class=\"run\">\n",
    "    ▶️ Run the cell below.\n",
    "</div>"
   ]
  },
  {
   "cell_type": "code",
   "execution_count": 54,
   "metadata": {},
   "outputs": [
    {
     "name": "stdout",
     "output_type": "stream",
     "text": [
      "isaac newton\n"
     ]
    }
   ],
   "source": [
    "# use + opperator to combine strings\n",
    "s = 'isaac' + ' ' + 'newton'\n",
    "\n",
    "print(s)"
   ]
  },
  {
   "cell_type": "markdown",
   "metadata": {},
   "source": [
    "The commands `string.upper()` and `string.capitalize()` can be used to convert all letters in the string to uppercase and capitalize the first letter in the string, respectively.\n",
    "\n",
    "<div class=\"run\">\n",
    "    ▶️ Run the cell below.\n",
    "</div>"
   ]
  },
  {
   "cell_type": "code",
   "execution_count": 55,
   "metadata": {},
   "outputs": [
    {
     "name": "stdout",
     "output_type": "stream",
     "text": [
      "ISAAC NEWTON\n",
      "Isaac newton\n"
     ]
    }
   ],
   "source": [
    "# make everything upper case\n",
    "print( s.upper() )\n",
    "\n",
    "# capitalize first letter in each bit of the string\n",
    "print( s.capitalize() )"
   ]
  },
  {
   "cell_type": "code",
   "execution_count": 56,
   "metadata": {},
   "outputs": [
    {
     "name": "stdout",
     "output_type": "stream",
     "text": [
      "\u001b[0;31mSignature:\u001b[0m \u001b[0ms\u001b[0m\u001b[0;34m.\u001b[0m\u001b[0mislower\u001b[0m\u001b[0;34m(\u001b[0m\u001b[0;34m)\u001b[0m\u001b[0;34m\u001b[0m\u001b[0;34m\u001b[0m\u001b[0m\n",
      "\u001b[0;31mDocstring:\u001b[0m\n",
      "Return True if the string is a lowercase string, False otherwise.\n",
      "\n",
      "A string is lowercase if all cased characters in the string are lowercase and\n",
      "there is at least one cased character in the string.\n",
      "\u001b[0;31mType:\u001b[0m      builtin_function_or_method"
     ]
    }
   ],
   "source": [
    "# String is an object\n",
    "# To check what commands you can call, type string_name. \n",
    "    # after the period, list of functions will appear\n",
    "    # here, I picked a function from the list for the \"s\" string & pulled up info on it\n",
    "\n",
    "s.islower?"
   ]
  },
  {
   "cell_type": "markdown",
   "metadata": {},
   "source": [
    "* needed to install autopep8 in order to have the function list appear\n",
    "\n",
    "* this list shows us _public_ functions available"
   ]
  },
  {
   "cell_type": "markdown",
   "metadata": {},
   "source": [
    "<h4 style=\"border:1px; border-style:solid; border-color:black; padding: 0.5em;\"> <span style=\"color:black\"> Formatted print statements </span> </h4>\n",
    "\n",
    "Python uses C-style formatting to create new, formatted strings with the `%` operator. This is useful for printing variables in functions and when asking for user input, both of which we will discuss later. Formatted print statements contain a string argument with one of the following specifiers:\n",
    "\n",
    "| Symbol | Task                     |\n",
    "| :----: | :----------------------  |\n",
    "|  `%s`  | Strings                  |\n",
    "|  `%d`  | Integers                 |\n",
    "|  `%f`  | Floating point numbers   |\n",
    "\n",
    "The second argument can contain a variable name or a tuple, which is a list of a fixed size. The arguments are separated by the `%` operator.\n",
    "\n",
    "<div class=\"run\">\n",
    "    ▶️ Run the cell below.\n",
    "</div>"
   ]
  },
  {
   "cell_type": "code",
   "execution_count": 57,
   "metadata": {},
   "outputs": [
    {
     "name": "stdout",
     "output_type": "stream",
     "text": [
      "I live in Santa Barbara.\n",
      "I have lived in Santa Barbara for 3 years.\n"
     ]
    }
   ],
   "source": [
    "city = 'Santa Barbara'\n",
    "yrs = 3\n",
    "print( 'I live in %s.' % city )\n",
    "print( 'I have lived in %s for %d years.' % (city,yrs))"
   ]
  },
  {
   "cell_type": "code",
   "execution_count": 61,
   "metadata": {},
   "outputs": [
    {
     "ename": "TypeError",
     "evalue": "not all arguments converted during string formatting",
     "output_type": "error",
     "traceback": [
      "\u001b[0;31m---------------------------------------------------------------------------\u001b[0m",
      "\u001b[0;31mTypeError\u001b[0m                                 Traceback (most recent call last)",
      "Cell \u001b[0;32mIn[61], line 6\u001b[0m\n\u001b[1;32m      4\u001b[0m sentence \u001b[39m=\u001b[39m \u001b[39m\"\u001b[39m\u001b[39mMy name...\u001b[39m\u001b[39m\"\u001b[39m\n\u001b[1;32m      5\u001b[0m \u001b[39m# Print\u001b[39;00m\n\u001b[0;32m----> 6\u001b[0m \u001b[39mprint\u001b[39m( sentence \u001b[39m%\u001b[39;49m info)\n",
      "\u001b[0;31mTypeError\u001b[0m: not all arguments converted during string formatting"
     ]
    }
   ],
   "source": [
    "# Define the variable info.\n",
    "info = (name, age)\n",
    "# Complete the sentence to be printed\n",
    "sentence = \"My name...\"\n",
    "# Print\n",
    "print( sentence % info)"
   ]
  },
  {
   "cell_type": "markdown",
   "metadata": {},
   "source": [
    "When printing floats, the `%f` argument specifier can be accompanied by a number of decimal places to print only a certain number of digits.\n",
    "\n",
    "<div class=\"run\">\n",
    "    ▶️ Run the cell below.\n",
    "</div>"
   ]
  },
  {
   "cell_type": "code",
   "execution_count": null,
   "metadata": {},
   "outputs": [],
   "source": [
    "import math\n",
    "pi_sqrt = math.sqrt(math.pi)\n",
    "print(\"The square root of pi is %f.\" % pi_sqrt)\n",
    "print(\"The square root of pi is %.2f.\" % pi_sqrt)"
   ]
  },
  {
   "cell_type": "markdown",
   "metadata": {},
   "source": [
    "<hr style=\"border-top: 0.5px solid black; margin-top: 1px; margin-bottom: 1px\"></hr>\n",
    "\n",
    "The `input()` function allows for user input within a script or program. Importantly, when Python prompts the user for input, the input is stored as a string, regardless of what it is. Thus, if you write a function (a type of object we will explore in a future session) prompting the user for a number, you must be sure to convert the variable storing the input to an integer or float. \n",
    "\n",
    "To demonstrate this, run the following cell, entering the month in which you were born in numerical format (e.g. if you were born in April, your input would be `4`) when prompted.\n",
    "\n",
    "<div class=\"run\">\n",
    "    ▶️ Run the cell below.\n",
    "</div>"
   ]
  },
  {
   "cell_type": "code",
   "execution_count": null,
   "metadata": {},
   "outputs": [],
   "source": [
    "month_in = input('Month of birth (1-12): ')\n",
    "type(month_in)"
   ]
  },
  {
   "cell_type": "markdown",
   "metadata": {},
   "source": [
    "<hr style=\"border-top: 1px solid gray; margin-top: 24px; margin-bottom: 1px\"></hr>"
   ]
  }
 ],
 "metadata": {
  "kernelspec": {
   "display_name": "eds217_2023",
   "language": "python",
   "name": "python3"
  },
  "language_info": {
   "codemirror_mode": {
    "name": "ipython",
    "version": 3
   },
   "file_extension": ".py",
   "mimetype": "text/x-python",
   "name": "python",
   "nbconvert_exporter": "python",
   "pygments_lexer": "ipython3",
   "version": "3.10.12"
  }
 },
 "nbformat": 4,
 "nbformat_minor": 4
}

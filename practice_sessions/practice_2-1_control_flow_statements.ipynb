{
 "cells": [
  {
   "cell_type": "markdown",
   "metadata": {},
   "source": [
    "| [⬅️ Previous Session](practice_1-2_lists.ipynb) | [🏠 Course Home](../index.ipynb) | [➡️ Next Session](practice_2-2_structured_data.ipynb) |\n",
    "\n",
    "# Practice 2-1: Control Flow Statements\n",
    "\n",
    "![control.jpeg](assets/control.jpeg)\n",
    "\n",
    "<hr style=\"border-top: 1px solid gray; margin-top: 24px; margin-bottom: 1px\"></hr>"
   ]
  },
  {
   "cell_type": "markdown",
   "metadata": {},
   "source": [
    "\n",
    "## 📚  Practice 1\n",
    "\n",
    "In programs, <code>if</code> statements are useful for catching errors due to user input. \n",
    "\n",
    "Define two new variables based on user input: the first prompting for a temperature value and the second prompting for the units as \"F\" or \"C\". \n",
    "\n",
    "Using the equation below, write an <code>if</code> statement that converts the temperature input to °C if it was given in °F or to °F if given in °C. Recall that all variables assigned based on user input are strings. Be sure to comment your code.\n",
    "    \n",
    "Formula for conversion between °F and °C:\n",
    "    $$T_{^{\\circ} C} = (T_{^{\\circ} F} - 32) \\times 5/9$$\n"
   ]
  },
  {
   "cell_type": "markdown",
   "metadata": {},
   "source": [
    "__My Answer__\n",
    "\n",
    "I wrote a for-loop instead of using the input statements"
   ]
  },
  {
   "cell_type": "code",
   "execution_count": 21,
   "metadata": {},
   "outputs": [
    {
     "name": "stdout",
     "output_type": "stream",
     "text": [
      "60.8\n"
     ]
    }
   ],
   "source": [
    "temp_value = 16\n",
    "temp_units = 'C'\n",
    "\n",
    "if temp_units == 'F':\n",
    "    x = (temp_value - 32) * (5/9)\n",
    "    print(x)\n",
    "elif temp_units == 'C':\n",
    "    y = ((9/5)*temp_value) + 32\n",
    "    print(y)\n",
    "else:\n",
    "    print(\"Enter a temperature value in Celcius(C) or Farenheit(F)\")"
   ]
  },
  {
   "cell_type": "markdown",
   "metadata": {},
   "source": [
    "__Proff Version__\n",
    "\n",
    "Describe your strategy: (work flow)\n",
    "\n",
    "\n",
    "Two input statements:\n",
    "* 1 input for temperature\n",
    "* 1 input for units\n",
    "\n",
    "``` python\n",
    "if temp is F\n",
    "    convert to C\n",
    "if temp is C\n",
    "    convert to F\n",
    "else\n",
    "    print(\"enter valid temp\")\n",
    "```"
   ]
  },
  {
   "cell_type": "code",
   "execution_count": 25,
   "metadata": {},
   "outputs": [
    {
     "name": "stdout",
     "output_type": "stream",
     "text": [
      "The new temp is 64.4 F\n"
     ]
    }
   ],
   "source": [
    "temp = input(\"Enter a temperature\") # create a \"temp\" variable, that's the input\n",
    "temp = float(temp) # specify that temp input is a float \n",
    "\n",
    "unit = input(\"What are the units?\")\n",
    "\n",
    "if unit =='F':\n",
    "    # conver to celcius\n",
    "    converted_temp = (temp - 32) * (5/9)\n",
    "    print(f\"The new temp is {converted_temp} C\")\n",
    "elif unit == 'C':\n",
    "    #convert to farenheight\n",
    "    converted_temp = ((9/5) * temp) + 32\n",
    "    print(f\"The new temp is {converted_temp} F\")\n",
    "else:\n",
    "    print(\"Temperature units must be F or C\")\n",
    "\n"
   ]
  },
  {
   "cell_type": "markdown",
   "metadata": {},
   "source": [
    "## 📚  Practice 2. \n",
    "\n",
    "Using nested <code>if</code> statements and your code from Practice question #1, convert the user input temperature to the opposite units (°F to °C or vice versa), print a statement to the user that reports the temperature in the converted units and indicates whether or not the temperature below freezing. \n",
    "\n",
    "Your print statement should look something like:\n",
    "\n",
    "<code>The temperature is {__}°C/F. It is (not) below freezing.</code>\n",
    "\n"
   ]
  },
  {
   "cell_type": "markdown",
   "metadata": {},
   "source": [
    "__My Version__"
   ]
  },
  {
   "cell_type": "code",
   "execution_count": 13,
   "metadata": {},
   "outputs": [
    {
     "name": "stdout",
     "output_type": "stream",
     "text": [
      "1.6666666666666667 F is below freezing\n"
     ]
    }
   ],
   "source": [
    "temp_value = 16\n",
    "temp_units = 'C'\n",
    "\n",
    "if temp_units == 'F':\n",
    "    x = (temp_value - 32) * (5/9)\n",
    "    for temp in temp_units:\n",
    "        if x < 0:\n",
    "            print(f'{x} C is below freezing')\n",
    "        else:\n",
    "            print(f'{x} C is not below freezing')\n",
    "elif temp_units == 'C':\n",
    "    y = ((9/5)*temp_value) + 32\n",
    "    for temp in temp_units:\n",
    "        if x < 32:\n",
    "            print(f'{x} F is below freezing')\n",
    "        else:\n",
    "            print(f'{x} C is below freezing')\n",
    "else:\n",
    "    print(\"Enter a temperature value in Celcius(C) or Farenheit(F)\")\n"
   ]
  },
  {
   "cell_type": "markdown",
   "metadata": {},
   "source": [
    "__Proff Version__"
   ]
  },
  {
   "cell_type": "code",
   "execution_count": 32,
   "metadata": {},
   "outputs": [
    {
     "name": "stdout",
     "output_type": "stream",
     "text": [
      "The new temperature is 25.555555555555557, which is above freezing.\n"
     ]
    }
   ],
   "source": [
    "temp = input(\"Enter a temperature\") # create a \"temp\" variable, that's the input\n",
    "temp = float(temp) # specify that temp input is a float \n",
    "\n",
    "unit = input(\"What are the units?\")\n",
    "\n",
    "if unit =='F':\n",
    "    # convert to celcius\n",
    "    converted_temp = (temp - 32) * (5/9)\n",
    "    if converted_temp > 0:\n",
    "        freezing = 'above'\n",
    "    elif converted_temp <= 0:\n",
    "        freezing = 'below'\n",
    "elif unit == 'C':\n",
    "    #convert to farenheight\n",
    "    converted_temp = ((9/5) * temp) + 32\n",
    "    if converted_temp > 32:\n",
    "        freezing = 'above'\n",
    "    elif converted_temp <= 32:\n",
    "        freezing = 'below'\n",
    "else:\n",
    "    print(\"Temperature units must be F or C\")\n",
    "print(f\"The new temperature is {converted_temp}, which is {freezing} freezing.\")"
   ]
  },
  {
   "cell_type": "markdown",
   "metadata": {},
   "source": [
    "## 📚  <b> Practice 3. </b> \n",
    "\n",
    "1. Create a list of the six organic elements sorted in alphabetical order and then print each element in the list.\n",
    "\n",
    "Given your sorted <code>org_elements</code> list and the corresponding list of atomic masses given in the cell below, use <code>enumerate()</code> in a <code>for</code> loop to print a formatted statement that expresses the atomic mass of of each element. \n",
    "\n",
    "Your formatted print statement should include the name of the element, the atomic mass rounded to 2 decimal places, and units.\n",
    "\n"
   ]
  },
  {
   "cell_type": "markdown",
   "metadata": {},
   "source": [
    "Describe your strategy here:\n",
    "\n"
   ]
  },
  {
   "cell_type": "code",
   "execution_count": 33,
   "metadata": {},
   "outputs": [
    {
     "name": "stdout",
     "output_type": "stream",
     "text": [
      "The mass of C is 12.011g/mol\n",
      "The mass of H is 1.00784g/mol\n",
      "The mass of N is 14.0067g/mol\n",
      "The mass of O is 15.999g/mol\n",
      "The mass of P is 30.97376g/mol\n",
      "The mass of S is 32.065g/mol\n"
     ]
    }
   ],
   "source": [
    "org_elements = ['C','H','N','O','P','S']\n",
    "atomic_mass = [12.011, 1.00784, 14.0067, 15.999, 30.97376, 32.065]  # g/mol\n",
    "\n",
    "for element, mass in zip(org_elements, atomic_mass):\n",
    "    print(f\"The mass of {element} is {mass}g/mol\")"
   ]
  },
  {
   "cell_type": "markdown",
   "metadata": {},
   "source": [
    "## 📚  <b> Practice 4. </b> \n",
    "The cell below contains monthly global land-ocean surface temperature in °F for each month during the years 2015-2021. \n",
    "\n",
    "Using  <code>enumerate()</code>, <code>zip()</code>, a nested <code>for</code> loop, or some combination of the three:\n",
    "\n",
    "<ol class=\"alpha\">\n",
    "<li> Calculate the monthly global land-ocean surface temperature anomalies (deviation from the mean) in °C for 2015-2018. The mean global land-ocean surface temperature calculated over the 20th century was 15.6°C.</li>\n",
    "<li> Create a new list with the mean monthly global surface temperature anomalies in °C for 2015-2021 (i.e. calculate the mean temperature anomaly for each month and put these values in a list). Use the command <code>np.mean()</code> to calculate mean values. </li> \n",
    "<li> Print each monthly mean value with the name of the month and units. </li>\n",
    "</ol>\n",
    "</div>"
   ]
  },
  {
   "cell_type": "code",
   "execution_count": 88,
   "metadata": {},
   "outputs": [],
   "source": [
    "# Import numpy for mean calculations\n",
    "import numpy as np #imports should always be at the top, only need to be run once\n",
    "\n",
    "tempF_2015 = [61.628, 61.7, 61.808, 61.448, 61.52, 61.538, 61.394, 61.52, 61.61, 62.042, 61.988, 62.168]\n",
    "tempF_2016 = [62.186, 62.546, 62.528, 62.06, 61.79, 61.52, 61.61, 61.916, 61.718, 61.682, 61.736, 61.628]\n",
    "tempF_2017 = [61.916, 62.132, 62.168, 61.772, 61.718, 61.376, 61.556, 61.646, 61.466, 61.7, 61.664, 61.754]\n",
    "tempF_2018 = [61.556, 61.61, 61.664, 61.682, 61.556, 61.466, 61.556, 61.448, 61.52, 61.916, 61.556, 61.718]\n",
    "tempF_2019 = [61.754, 61.79, 62.186, 61.898, 61.61, 61.7, 61.772, 61.79, 61.754, 61.898, 61.862, 62.042]\n",
    "tempF_2020 = [62.186, 62.312, 62.186, 62.114, 61.898, 61.736, 61.7, 61.646, 61.862, 61.664, 62.06, 61.538]\n",
    "tempF_2021 = [61.538, 61.232, 61.664, 61.43, 61.484, 61.592, 61.736, 61.556, 61.736, 61.88, 61.772, 61.61]\n",
    "\n",
    "# List of yearly lists (may or may not be useful)\n",
    "tempF_list = [tempF_2015, tempF_2016, tempF_2017, tempF_2018, tempF_2019, tempF_2020, tempF_2021]\n",
    "\n",
    "# List of years (probably useful)\n",
    "years = [2015, 2016, 2017, 2018, 2019, 2020, 2021]"
   ]
  },
  {
   "cell_type": "markdown",
   "metadata": {},
   "source": [
    "__1. My Work__\n",
    "\n",
    "Using list.append\n",
    "* append function adds an object to the end of the list\n",
    "* need to create an empty list before using append so our new, appended list has somewhere to go"
   ]
  },
  {
   "cell_type": "code",
   "execution_count": null,
   "metadata": {},
   "outputs": [],
   "source": [
    "# Converting to C and subtracting from the mean for ONE list \n",
    "for i, month_temp in enumerate(tempF_2015):\n",
    "    t_conversion = (month_temp - 32) * (5/9)\n",
    "    dev_mean = t_conversion - 15.6\n",
    "    print(f\"For month {i+1}, the deviation from the mean is {dev_mean}.\")"
   ]
  },
  {
   "cell_type": "markdown",
   "metadata": {},
   "source": [
    "adding another list"
   ]
  },
  {
   "cell_type": "code",
   "execution_count": 89,
   "metadata": {},
   "outputs": [
    {
     "name": "stdout",
     "output_type": "stream",
     "text": [
      "[[61.628, 61.7, 61.808, 61.448, 61.52, 61.538, 61.394, 61.52, 61.61, 62.042, 61.988, 62.168], [62.186, 62.546, 62.528, 62.06, 61.79, 61.52, 61.61, 61.916, 61.718, 61.682, 61.736, 61.628], [61.916, 62.132, 62.168, 61.772, 61.718, 61.376, 61.556, 61.646, 61.466, 61.7, 61.664, 61.754], [61.556, 61.61, 61.664, 61.682, 61.556, 61.466, 61.556, 61.448, 61.52, 61.916, 61.556, 61.718], [61.754, 61.79, 62.186, 61.898, 61.61, 61.7, 61.772, 61.79, 61.754, 61.898, 61.862, 62.042], [62.186, 62.312, 62.186, 62.114, 61.898, 61.736, 61.7, 61.646, 61.862, 61.664, 62.06, 61.538], [61.538, 61.232, 61.664, 61.43, 61.484, 61.592, 61.736, 61.556, 61.736, 61.88, 61.772, 61.61]]\n"
     ]
    }
   ],
   "source": [
    "\n"
   ]
  },
  {
   "cell_type": "markdown",
   "metadata": {},
   "source": [
    "__1. Proff Walkthrough__\n",
    "\n",
    "2 potential methods for solving\n",
    "* method 1\n",
    "* method 2\n",
    "\n",
    "METHOD 1: Lists of lists"
   ]
  },
  {
   "cell_type": "code",
   "execution_count": 96,
   "metadata": {},
   "outputs": [
    {
     "name": "stdout",
     "output_type": "stream",
     "text": [
      "[61.628, 61.7, 61.808, 61.448, 61.52, 61.538, 61.394, 61.52, 61.61, 62.042, 61.988, 62.168]\n",
      "[62.186, 62.546, 62.528, 62.06, 61.79, 61.52, 61.61, 61.916, 61.718, 61.682, 61.736, 61.628]\n",
      "[61.916, 62.132, 62.168, 61.772, 61.718, 61.376, 61.556, 61.646, 61.466, 61.7, 61.664, 61.754]\n",
      "[61.556, 61.61, 61.664, 61.682, 61.556, 61.466, 61.556, 61.448, 61.52, 61.916, 61.556, 61.718]\n",
      "[61.754, 61.79, 62.186, 61.898, 61.61, 61.7, 61.772, 61.79, 61.754, 61.898, 61.862, 62.042]\n",
      "[62.186, 62.312, 62.186, 62.114, 61.898, 61.736, 61.7, 61.646, 61.862, 61.664, 62.06, 61.538]\n",
      "[61.538, 61.232, 61.664, 61.43, 61.484, 61.592, 61.736, 61.556, 61.736, 61.88, 61.772, 61.61]\n",
      "[[5.860000000000001, 5.900000000000004, 5.960000000000003, 5.76, 5.8000000000000025, 5.8100000000000005, 5.729999999999999, 5.8000000000000025, 5.85, 6.090000000000002, 6.0600000000000005, 6.160000000000002], [6.17, 6.369999999999999, 6.360000000000001, 6.100000000000003, 5.950000000000001, 5.8000000000000025, 5.85, 6.019999999999998, 5.910000000000002, 5.890000000000002, 5.92, 5.860000000000001], [6.019999999999998, 6.139999999999999, 6.160000000000002, 5.9399999999999995, 5.910000000000002, 5.720000000000001, 5.8199999999999985, 5.870000000000003, 5.770000000000001, 5.900000000000004, 5.880000000000001, 5.9300000000000015], [5.8199999999999985, 5.85, 5.880000000000001, 5.890000000000002, 5.8199999999999985, 5.770000000000001, 5.8199999999999985, 5.76, 5.8000000000000025, 6.019999999999998, 5.8199999999999985, 5.910000000000002], [5.9300000000000015, 5.950000000000001, 6.17, 6.010000000000003, 5.85, 5.900000000000004, 5.9399999999999995, 5.950000000000001, 5.9300000000000015, 6.010000000000003, 5.990000000000004, 6.090000000000002], [6.17, 6.24, 6.17, 6.130000000000001, 6.010000000000003, 5.92, 5.900000000000004, 5.870000000000003, 5.990000000000004, 5.880000000000001, 6.100000000000003, 5.8100000000000005], [5.8100000000000005, 5.640000000000002, 5.880000000000001, 5.750000000000002, 5.780000000000003, 5.840000000000002, 5.92, 5.8199999999999985, 5.92, 6.000000000000002, 5.9399999999999995, 5.85]]\n"
     ]
    }
   ],
   "source": [
    "# Create empty lists to contain temp in C & anomalies\n",
    "tempC_list = []\n",
    "anomC_list = []\n",
    "\n",
    "# define mean temperature\n",
    "mean_temp = 15.6\n",
    "\n",
    "#Create for loop\n",
    "for year_data in tempF_list: #year_data is a temporary variable, named that since each list is a year\n",
    "    print(year_data) #if you stop here, this will print out all of our lists\n",
    "    year_C = [] #another blank list\n",
    "    year_C_anom = []\n",
    "    for value in year_data:\n",
    "        C_value = (value -23) * (5/9)\n",
    "        year_C.append(C_value)\n",
    "        year_C_anom.append(C_value - mean_temp)\n",
    "    tempC_list.append(year_C)\n",
    "    anomC_list.append(year_C_anom)\n",
    "print(anomC_list)\n",
    "\n",
    "monthly_anomalies = []\n",
    "for i in range(12):\n",
    "    month_vals = []\n",
    "    for j in range(7):\n",
    "        month_vals.append(anomC_list[j][i])\n",
    "    monthly_anomalies.append(np.mean)"
   ]
  },
  {
   "cell_type": "code",
   "execution_count": 101,
   "metadata": {},
   "outputs": [
    {
     "name": "stdout",
     "output_type": "stream",
     "text": [
      "[0.9685714285714315, 1.0128571428571451, 1.0828571428571419, 0.9399999999999995, 0.8742857142857172, 0.8228571428571438, 0.8542857142857105, 0.8700000000000028, 0.881428571428577, 0.9700000000000006, 0.95857142857143, 0.944285714285714]\n"
     ]
    }
   ],
   "source": [
    "# Create empty lists bc you can't append to something that doesn't exist\n",
    "   # I think the append function is being used to populate these empty lists\n",
    "avg_month_F = []\n",
    "avg_month_C = []\n",
    "avg_month_anom = []\n",
    "\n",
    "for i in zip(tempF_2015, tempF_2016, tempF_2017, tempF_2018, tempF_2019, tempF_2020, tempF_2021):\n",
    "   avg_F = np.mean(i) #creates average temperatures for each year\n",
    "   avg_C = (avg_F - 32) * (5/9)\n",
    "   avg_month_F.append(avg_F)\n",
    "   avg_month_C.append((avg_F -23) * (5/9))\n",
    "   avg_month_anom.append(avg_C - 15.6)\n",
    "\n",
    "print(avg_month_anom)"
   ]
  },
  {
   "cell_type": "markdown",
   "metadata": {},
   "source": [
    "## 📚  Practice 5.\n",
    "\n",
    "Use a list comprehension to print a list of all months that had an anomaly above the average monthly anomaly.\n",
    "\n",
    "Some helpful code is provided below:\n",
    "```python\n",
    "months = ['January', 'February', 'March', 'April', 'May', 'June', 'July', 'August', 'September', 'October', 'November', 'December']\n",
    "\n",
    "average_anomaly = np.mean(mean_monthly_anomalies)\n",
    "\n",
    "```\n",
    "Recall that list comprehensions can contain <code>if</code> statements. For example:\n",
    "\n",
    "[<code>item</code> for <code>item</code> in <code>list</code> if <code>item</code> > <code>value</code>]\n",
    "\n",
    "And they can also contain enumerate statements:\n",
    "\n",
    "[<code>item</code> for <code>index,item</code> in <code>enumerate(list)</code> if <code>other_list[index]</code> > <code>value</code>]"
   ]
  },
  {
   "cell_type": "markdown",
   "metadata": {},
   "source": [
    "Describe your strategy here:\n",
    "\n"
   ]
  },
  {
   "cell_type": "code",
   "execution_count": 69,
   "metadata": {},
   "outputs": [],
   "source": [
    "# Add your code here:"
   ]
  }
 ],
 "metadata": {
  "kernelspec": {
   "display_name": "eds217_2023",
   "language": "python",
   "name": "python3"
  },
  "language_info": {
   "codemirror_mode": {
    "name": "ipython",
    "version": 3
   },
   "file_extension": ".py",
   "mimetype": "text/x-python",
   "name": "python",
   "nbconvert_exporter": "python",
   "pygments_lexer": "ipython3",
   "version": "3.10.12"
  },
  "orig_nbformat": 4
 },
 "nbformat": 4,
 "nbformat_minor": 2
}
